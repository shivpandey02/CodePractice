{
 "cells": [
  {
   "cell_type": "code",
   "execution_count": 30,
   "id": "4653a761",
   "metadata": {},
   "outputs": [],
   "source": [
    "#Find the power of number \n",
    "def power_function(number,power):\n",
    "    if power == 0:\n",
    "        return 1 \n",
    "    small_call = power_function(number, power-1)\n",
    "    if small_call:\n",
    "        ans = number*small_call\n",
    "    return ans\n",
    "    "
   ]
  },
  {
   "cell_type": "code",
   "execution_count": 34,
   "id": "acefa0f6",
   "metadata": {},
   "outputs": [
    {
     "name": "stdout",
     "output_type": "stream",
     "text": [
      "1024\n"
     ]
    }
   ],
   "source": [
    "print(power_function(2,10))"
   ]
  },
  {
   "cell_type": "code",
   "execution_count": 27,
   "id": "be17618c",
   "metadata": {},
   "outputs": [],
   "source": [
    "#Find the power of number \n",
    "def power_function(n,l):\n",
    "    if l == 0:\n",
    "        return 1\n",
    "    return n*power_function(n,l-1)"
   ]
  },
  {
   "cell_type": "code",
   "execution_count": 36,
   "id": "4070a4fa",
   "metadata": {},
   "outputs": [],
   "source": [
    "def sum(l):\n",
    "    ans = 0\n",
    "    if len(l)==1:\n",
    "        return l[0]\n",
    "    smallouput = l[1:]\n",
    "    function_call = sum(l[:])\n",
    "    if function_call:\n",
    "        ans+=l[0]\n",
    "    return ans"
   ]
  },
  {
   "cell_type": "code",
   "execution_count": 3,
   "id": "c49f3549",
   "metadata": {},
   "outputs": [
    {
     "name": "stdout",
     "output_type": "stream",
     "text": [
      "27\n"
     ]
    }
   ],
   "source": [
    "s = sum([1,2,3,4,9,8])\n",
    "print(s)"
   ]
  },
  {
   "cell_type": "code",
   "execution_count": 13,
   "id": "f00e145f",
   "metadata": {},
   "outputs": [],
   "source": [
    "def factorail(number):\n",
    "    if number == 0:\n",
    "        return 1 \n",
    "    return number*factorail(number-1)\n"
   ]
  },
  {
   "cell_type": "code",
   "execution_count": 14,
   "id": "997e914f",
   "metadata": {},
   "outputs": [
    {
     "name": "stdout",
     "output_type": "stream",
     "text": [
      "120\n"
     ]
    }
   ],
   "source": [
    "k = factorail(5)\n",
    "print(k)"
   ]
  },
  {
   "cell_type": "code",
   "execution_count": 17,
   "id": "f0ff9842",
   "metadata": {},
   "outputs": [],
   "source": [
    "def factorail(number):\n",
    "    if number == 0:\n",
    "        return 1 \n",
    "    smalloutput = number - 1\n",
    "    function_call = factorail(smalloutput)\n",
    "    if function_call:\n",
    "        return number*function_call"
   ]
  },
  {
   "cell_type": "code",
   "execution_count": 21,
   "id": "4378d528",
   "metadata": {},
   "outputs": [
    {
     "name": "stdout",
     "output_type": "stream",
     "text": [
      "5040\n"
     ]
    }
   ],
   "source": [
    "f = factorail(7)\n",
    "print(f)"
   ]
  },
  {
   "cell_type": "code",
   "execution_count": 23,
   "id": "491fb6ef",
   "metadata": {},
   "outputs": [
    {
     "name": "stdout",
     "output_type": "stream",
     "text": [
      "-1\n"
     ]
    }
   ],
   "source": [
    "#linear_searching_simple_code\n",
    "def linear_searching(l,key):\n",
    "    for i in range(len(l)):\n",
    "        if l[i] == key:\n",
    "            return i\n",
    "    return -1 \n",
    "\n",
    "print(linear_searching([1,2,3,4,5],0))\n"
   ]
  },
  {
   "cell_type": "code",
   "execution_count": 29,
   "id": "2677032f",
   "metadata": {},
   "outputs": [
    {
     "name": "stdout",
     "output_type": "stream",
     "text": [
      "-1\n"
     ]
    }
   ],
   "source": [
    "#linear_searching using recursion\n",
    "def linear_searching(l,key):\n",
    "    if l[0] == key :\n",
    "        return key\n",
    "    if len(l)==1 and key!=l[0]:\n",
    "        return -1\n",
    "    return linear_searching(l[1:],key)\n",
    "\n",
    "print(linear_searching([1,2,3,4],8))"
   ]
  },
  {
   "cell_type": "code",
   "execution_count": 58,
   "id": "cdf20dcc",
   "metadata": {},
   "outputs": [],
   "source": [
    "#linear_seaching using recursion\n",
    "#returning index number\n",
    "def linear_searching(l,key):\n",
    "    if len(l)==0:\n",
    "        return - 1\n",
    "    if l[0] == key:\n",
    "        return 0\n",
    "    function_call = linear_searching(l[1:],key)\n",
    "    if function_call == -1:\n",
    "        return -1 \n",
    "    else:\n",
    "        return function_call+1\n",
    "        \n",
    "    "
   ]
  },
  {
   "cell_type": "code",
   "execution_count": 59,
   "id": "65ce299b",
   "metadata": {},
   "outputs": [
    {
     "name": "stdout",
     "output_type": "stream",
     "text": [
      "1\n"
     ]
    }
   ],
   "source": [
    "print(linear_searching([1,2,3,4],2))"
   ]
  },
  {
   "cell_type": "code",
   "execution_count": 54,
   "id": "c00480d8",
   "metadata": {},
   "outputs": [],
   "source": [
    "def linear_searching(l, key):\n",
    "    if len(l) == 0:\n",
    "        return -1  # element not found\n",
    "    if l[0] == key:\n",
    "        return 0  # element found at index 0\n",
    "    index = linear_searching(l[1:], key)  # search in the rest of the list\n",
    "    if index == -1:\n",
    "        return -1  # element not found\n",
    "    else:\n",
    "        return index + 1  # element found at index index + 1\n"
   ]
  },
  {
   "cell_type": "code",
   "execution_count": 55,
   "id": "7da3bcc2",
   "metadata": {},
   "outputs": [],
   "source": [
    "def linear_searching(l, key, index=0):\n",
    "    if len(l) == 0:\n",
    "        return -1\n",
    "    if l[0] == key:\n",
    "        return index\n",
    "    return linear_searching(l[1:], key, index+1)\n"
   ]
  },
  {
   "cell_type": "code",
   "execution_count": 70,
   "id": "f267bca6",
   "metadata": {},
   "outputs": [
    {
     "name": "stdout",
     "output_type": "stream",
     "text": [
      "3\n"
     ]
    }
   ],
   "source": [
    "def linear_searching(l,key,index=0):\n",
    "    if len(l)==0:\n",
    "        return -1 \n",
    "    if l[0] == key:\n",
    "        return index \n",
    "    return linear_searching(l[1:],key,index+1)\n",
    "z = linear_searching([1,2,3,4],4)\n",
    "print(z)"
   ]
  },
  {
   "cell_type": "code",
   "execution_count": 78,
   "id": "2caf5daa",
   "metadata": {},
   "outputs": [
    {
     "name": "stdout",
     "output_type": "stream",
     "text": [
      "1 2\n"
     ]
    }
   ],
   "source": [
    "#Binary searching \n",
    "def binary_search(arr,key):\n",
    "    low = 0 \n",
    "    high = len(arr)-1 \n",
    "    for i in range(high//2):\n",
    "        mid = (low+high)//2\n",
    "        if arr[mid] < key:\n",
    "            low = mid - 1 \n",
    "        elif arr[mid] > key:\n",
    "            high = mid + 1 \n",
    "        else:\n",
    "            return mid,arr[mid]\n",
    "            \n",
    "    return -1 \n",
    "\n",
    "k = binary_search([1,2,3,4],2)\n",
    "print(*k)\n",
    "    "
   ]
  },
  {
   "cell_type": "code",
   "execution_count": 80,
   "id": "33318915",
   "metadata": {},
   "outputs": [
    {
     "name": "stdout",
     "output_type": "stream",
     "text": [
      "(3, 4)\n"
     ]
    }
   ],
   "source": [
    "#using while \n",
    "def binary_search(arr,key):\n",
    "    low = 0\n",
    "    high = len(arr)-1\n",
    "    while low<=high:\n",
    "        mid = (low+high)//2 \n",
    "        if arr[mid] > key:\n",
    "            high = mid -1 \n",
    "        elif arr[mid] < key:\n",
    "            low = mid+1 \n",
    "        else:\n",
    "            return mid,arr[mid]\n",
    "    return -1 \n",
    "\n",
    "print(binary_search([1,2,3,4],4))\n"
   ]
  },
  {
   "cell_type": "code",
   "execution_count": null,
   "id": "96b9a13f",
   "metadata": {},
   "outputs": [],
   "source": [
    "#using binary_search using recursion\n",
    "def binary_search(arr, x, low=0, high=None):\n",
    "    if high is None:\n",
    "        high = len(arr) - 1\n",
    "    if low > high:\n",
    "        return -1\n",
    "\n",
    "    mid = (low + high) // 2\n",
    "    if arr[mid] < x:\n",
    "        return binary_search(arr, x, mid+1, high)\n",
    "    elif arr[mid] > x:\n",
    "        return binary_search(arr, x, low, mid-1)\n",
    "    else:\n",
    "        return mid\n",
    "\n",
    "# Test the function\n",
    "print(binary_search([1, 2, 3, 4, 5], 4))  # Output: 3\n",
    "print(binary_search([1, 2, 3, 4, 5], 2))  # Output: 1\n",
    "print(binary_search([1, 2, 3, 4, 5], 6))  # Output: -1\n"
   ]
  }
 ],
 "metadata": {
  "kernelspec": {
   "display_name": "Python 3 (ipykernel)",
   "language": "python",
   "name": "python3"
  },
  "language_info": {
   "codemirror_mode": {
    "name": "ipython",
    "version": 3
   },
   "file_extension": ".py",
   "mimetype": "text/x-python",
   "name": "python",
   "nbconvert_exporter": "python",
   "pygments_lexer": "ipython3",
   "version": "3.9.13"
  }
 },
 "nbformat": 4,
 "nbformat_minor": 5
}
