{
 "cells": [
  {
   "cell_type": "code",
   "execution_count": 47,
   "id": "7f552584",
   "metadata": {},
   "outputs": [],
   "source": [
    "class Point:\n",
    "    \n",
    "    def __init__(self,x,y):\n",
    "        self.x_coordinate = x\n",
    "        self.y_coordinate = y \n",
    "        \n",
    "        \n",
    "    def __str__(self):\n",
    "        return '{}/{}'.format(self.x_coordinate,self.y_coordinate)\n",
    "    \n",
    "#class EuclideanDistance:\n",
    "    \n",
    "    def distance(self,other):\n",
    "        return ((self.x_coordinate-other.x_coordinate)**2 + (self.y_coordinate-other.y_coordinate)**2)**0.5\n",
    "        \n",
    "    \n",
    "class line:\n",
    "    \n",
    "    def __init__(self,A,B,C):\n",
    "        self.A = A \n",
    "        self.B = B \n",
    "        self.C = C\n",
    "        \n",
    "    def __str__(self):\n",
    "        \n",
    "        \n",
    "        return '{}A + {}B + {}'.format(self.A,self.B,self.C)\n",
    "    \n",
    "    def point_on_line(line,point):\n",
    "        if line.A*point.x_coordinate + line.B*point.y_coordinate + line.C == 0:\n",
    "            return 'Point lies on line' \n",
    "        return 'point does not lies on line'\n",
    "    \n",
    "    \n",
    "    "
   ]
  },
  {
   "cell_type": "code",
   "execution_count": 48,
   "id": "52473332",
   "metadata": {},
   "outputs": [
    {
     "name": "stdout",
     "output_type": "stream",
     "text": [
      "0/0\n",
      "1/1\n"
     ]
    },
    {
     "data": {
      "text/plain": [
       "1.4142135623730951"
      ]
     },
     "execution_count": 48,
     "metadata": {},
     "output_type": "execute_result"
    }
   ],
   "source": [
    "P1 = Point(0,0)\n",
    "P2 = point(1,1)\n",
    "#P1.distance(P2)\n",
    "print(P1)\n",
    "print(P2)\n",
    "P1.distance(P2)"
   ]
  },
  {
   "cell_type": "code",
   "execution_count": 53,
   "id": "32d3186a",
   "metadata": {},
   "outputs": [],
   "source": [
    "L = line(1,-1,5)"
   ]
  },
  {
   "cell_type": "code",
   "execution_count": 54,
   "id": "3781bff9",
   "metadata": {},
   "outputs": [
    {
     "name": "stdout",
     "output_type": "stream",
     "text": [
      "1A + -1B + 5\n"
     ]
    }
   ],
   "source": [
    "print(L)"
   ]
  },
  {
   "cell_type": "code",
   "execution_count": null,
   "id": "ec7e3451",
   "metadata": {},
   "outputs": [],
   "source": []
  },
  {
   "cell_type": "code",
   "execution_count": null,
   "id": "7145dee7",
   "metadata": {},
   "outputs": [],
   "source": []
  }
 ],
 "metadata": {
  "kernelspec": {
   "display_name": "Python 3 (ipykernel)",
   "language": "python",
   "name": "python3"
  },
  "language_info": {
   "codemirror_mode": {
    "name": "ipython",
    "version": 3
   },
   "file_extension": ".py",
   "mimetype": "text/x-python",
   "name": "python",
   "nbconvert_exporter": "python",
   "pygments_lexer": "ipython3",
   "version": "3.9.13"
  }
 },
 "nbformat": 4,
 "nbformat_minor": 5
}
