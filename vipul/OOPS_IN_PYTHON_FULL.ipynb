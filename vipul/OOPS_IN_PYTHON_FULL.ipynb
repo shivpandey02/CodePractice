{
 "cells": [
  {
   "cell_type": "raw",
   "id": "53fbf45b",
   "metadata": {},
   "source": [
    "Python object programming "
   ]
  },
  {
   "cell_type": "raw",
   "id": "153b96dd",
   "metadata": {},
   "source": [
    "There are three imporatant terms in python : \n",
    "1.Class\n",
    "2.Object\n",
    "3.Reference variable\n"
   ]
  },
  {
   "cell_type": "markdown",
   "id": "0f17876d",
   "metadata": {},
   "source": [
    "# CLASS"
   ]
  },
  {
   "cell_type": "raw",
   "id": "a06e7aef",
   "metadata": {},
   "source": [
    "what is class ?\n",
    "Class is a blueprint/plan of an object .\n",
    "Class represent the properties(attributes) and actions(behaviours) of an object.\n",
    "Attributes = Variables\n",
    "Behaviour = Methods \n"
   ]
  },
  {
   "cell_type": "markdown",
   "id": "e27a0d9b",
   "metadata": {},
   "source": [
    "# OBJECT"
   ]
  },
  {
   "cell_type": "raw",
   "id": "ab111ab2",
   "metadata": {},
   "source": [
    "A physical existence of a class is nothing but object.\n",
    "An instance of a class.\n",
    "We can create any number of object for a class. "
   ]
  },
  {
   "cell_type": "markdown",
   "id": "e145fd86",
   "metadata": {},
   "source": [
    "# REFERENCE VARAIBLE"
   ]
  },
  {
   "cell_type": "raw",
   "id": "6cb87be5",
   "metadata": {},
   "source": [
    "The variables which can be used to refer objects is called reference variables.\n",
    "By using reference variables we can access porperties and method of an object.\n",
    "An object have multiple reference variables"
   ]
  },
  {
   "cell_type": "markdown",
   "id": "dfb058c4",
   "metadata": {},
   "source": [
    "# VARIABLES"
   ]
  },
  {
   "cell_type": "raw",
   "id": "a233768e",
   "metadata": {},
   "source": [
    "There are two types of variables\n",
    "1.Static variables \n",
    "2.Instance variables"
   ]
  },
  {
   "cell_type": "raw",
   "id": "c1291c7f",
   "metadata": {},
   "source": [
    "Static variables:\n",
    "----- If the value of a variables is not varies from object to object, then it is called static variable.\n",
    "In a case of static variables at class level only one copy will be created and shared by every object of that class.\n",
    "\n",
    "Instance variables:\n",
    "--- If the value of variables is varies from object to object, then it is called stativ variable,\n",
    "In a case of static variables for every object the separete copy will be created."
   ]
  },
  {
   "cell_type": "raw",
   "id": "b75256cc",
   "metadata": {},
   "source": [
    "Various Places where we declared the static variables :\n",
    "1. Within the class directly but outside the constructor and instance method.\n",
    "2. Inside constructor by using classname.\n",
    "3. Inside instance method by using classname.\n",
    "4. Inside @classmethod by using classname and  cls>\n",
    "5. Inside @staticmethod by using classname  \n",
    "6. Outside the class by using classname"
   ]
  },
  {
   "cell_type": "code",
   "execution_count": 14,
   "id": "085de057",
   "metadata": {},
   "outputs": [
    {
     "name": "stdout",
     "output_type": "stream",
     "text": [
      "{'__module__': '__main__', 'a': 10, '__init__': <function vipul.__init__ at 0x000001C848465F30>, 'm1': <function vipul.m1 at 0x000001C848540160>, 'm2': <classmethod(<function vipul.m2 at 0x000001C8485425F0>)>, 'm3': <staticmethod(<function vipul.m3 at 0x000001C8485427A0>)>, '__dict__': <attribute '__dict__' of 'vipul' objects>, '__weakref__': <attribute '__weakref__' of 'vipul' objects>, '__doc__': None, 'g': 70, 'b': 20}\n",
      "{'__module__': '__main__', 'a': 10, '__init__': <function vipul.__init__ at 0x000001C848465F30>, 'm1': <function vipul.m1 at 0x000001C848540160>, 'm2': <classmethod(<function vipul.m2 at 0x000001C8485425F0>)>, 'm3': <staticmethod(<function vipul.m3 at 0x000001C8485427A0>)>, '__dict__': <attribute '__dict__' of 'vipul' objects>, '__weakref__': <attribute '__weakref__' of 'vipul' objects>, '__doc__': None, 'g': 70, 'b': 20, 'c': 30}\n",
      "{'__module__': '__main__', 'a': 10, '__init__': <function vipul.__init__ at 0x000001C848465F30>, 'm1': <function vipul.m1 at 0x000001C848540160>, 'm2': <classmethod(<function vipul.m2 at 0x000001C8485425F0>)>, 'm3': <staticmethod(<function vipul.m3 at 0x000001C8485427A0>)>, '__dict__': <attribute '__dict__' of 'vipul' objects>, '__weakref__': <attribute '__weakref__' of 'vipul' objects>, '__doc__': None, 'g': 70, 'b': 20, 'c': 30, 'd': 40, 'e': 50}\n",
      "{'__module__': '__main__', 'a': 10, '__init__': <function vipul.__init__ at 0x000001C848465F30>, 'm1': <function vipul.m1 at 0x000001C848540160>, 'm2': <classmethod(<function vipul.m2 at 0x000001C8485425F0>)>, 'm3': <staticmethod(<function vipul.m3 at 0x000001C8485427A0>)>, '__dict__': <attribute '__dict__' of 'vipul' objects>, '__weakref__': <attribute '__weakref__' of 'vipul' objects>, '__doc__': None, 'g': 70, 'b': 20, 'c': 30, 'd': 40, 'e': 50, 'f': 60}\n"
     ]
    }
   ],
   "source": [
    "#Code of declaration of static variable\n",
    "class vipul:\n",
    "    a = 10 #within the class directly\n",
    "    \n",
    "    def __init__(self):\n",
    "       vipul.b = 20  #Inside the constructor by using classname \n",
    "    \n",
    "    def m1(self):\n",
    "        vipul.c = 30 #Inside the method by using classname \n",
    "        \n",
    "    @classmethod \n",
    "    def m2(cls):\n",
    "        vipul.d = 40  #Inside the @classmethod by using classname\n",
    "        vipul.e = 50 \n",
    "        \n",
    "    @staticmethod \n",
    "    def m3():\n",
    "        vipul.f = 60  #Inside the @staticmethod by using staticmethod \n",
    "        \n",
    "vipul.g = 70 #Outside the class by using classname \n",
    "\n",
    "t = vipul() #creating the object\n",
    "print(vipul.__dict__)\n",
    "v.m1()\n",
    "print(vipul.__dict__)\n",
    "vipul.m2()\n",
    "print(vipul.__dict__)\n",
    "vipul.m3()\n",
    "print(vipul.__dict__)\n",
    "\n",
    "        \n",
    "    \n",
    "    "
   ]
  },
  {
   "cell_type": "markdown",
   "id": "0fe343aa",
   "metadata": {},
   "source": [
    "# Setter and Getter Methods:"
   ]
  },
  {
   "cell_type": "raw",
   "id": "1e66e936",
   "metadata": {},
   "source": [
    "We can set and get the values of instance variables by using setter and getter function."
   ]
  },
  {
   "cell_type": "raw",
   "id": "a4e06e85",
   "metadata": {},
   "source": [
    "Setter Method - To set the values of instance variables.\n",
    "Setter Method is also known as Mutuator Method."
   ]
  },
  {
   "cell_type": "code",
   "execution_count": 16,
   "id": "be822b8d",
   "metadata": {},
   "outputs": [],
   "source": [
    "#Syntax of setter method \n",
    "def setmarks(self,marks):\n",
    "    self.marks = marks \n",
    "    pass"
   ]
  },
  {
   "cell_type": "raw",
   "id": "751fefd6",
   "metadata": {},
   "source": [
    "Getter Method - To get the values of instance variables.\n",
    "Getter Method is also known as Accessor Method \n"
   ]
  },
  {
   "cell_type": "code",
   "execution_count": 17,
   "id": "0a33b42b",
   "metadata": {},
   "outputs": [],
   "source": [
    "#Syntax of Getter method \n",
    "def getmarks(self):\n",
    "    return self.marks\n",
    "pass"
   ]
  },
  {
   "cell_type": "code",
   "execution_count": 20,
   "id": "2d637140",
   "metadata": {},
   "outputs": [
    {
     "name": "stdout",
     "output_type": "stream",
     "text": [
      "Enter the number of student : 4\n",
      "Enter the name of student : vipul\n",
      "Enter the marks of student : 89\n",
      "Enter the name of student : kapil\n",
      "Enter the marks of student : 100\n",
      "Enter the name of student : vishu\n",
      "Enter the marks of student : 100\n",
      "Enter the name of student : tommy\n",
      "Enter the marks of student : 100\n",
      "Hello vipul\n",
      "Your marks 89\n",
      "\n",
      "Hello kapil\n",
      "Your marks 100\n",
      "\n",
      "Hello vishu\n",
      "Your marks 100\n",
      "\n",
      "Hello tommy\n",
      "Your marks 100\n",
      "\n"
     ]
    }
   ],
   "source": [
    "#Code of getter and setter method\n",
    "class dhankar:\n",
    "    def setname(self,name):\n",
    "        self.name = name \n",
    "        \n",
    "    def setmarks(self,marks):\n",
    "        self.marks = marks \n",
    "        \n",
    "    def getname(self):\n",
    "        return self.name\n",
    "    \n",
    "    def getmarks(self):\n",
    "        return self.marks\n",
    "    \n",
    "n = int(input('Enter the number of student : '))\n",
    "students = []\n",
    "for i in range(n):\n",
    "    s = dhankar()\n",
    "    name = input(\"Enter the name of student : \")\n",
    "    marks = int(input('Enter the marks of student : '))\n",
    "    s.setname(name)\n",
    "    s.setmarks(marks)\n",
    "    students.append(s)\n",
    "    \n",
    "for s in students:\n",
    "    print('Hello',s.getname())\n",
    "    print('Your marks',s.getmarks())\n",
    "    print()"
   ]
  },
  {
   "cell_type": "code",
   "execution_count": 31,
   "id": "b8a068b2",
   "metadata": {},
   "outputs": [],
   "source": [
    "#Example of setter and getter method \n",
    "class student:\n",
    "    @classmethod\n",
    "    def setname(cls,name,marks):\n",
    "        cls.name = name \n",
    "        cls.marks = marks \n",
    "    @classmethod\n",
    "    def getname(cls):\n",
    "        print(\"Your name is \",cls.name)\n",
    "        print(\"Your marks is \",cls.marks)\n",
    "        \n",
    "pass\n",
    "    "
   ]
  },
  {
   "cell_type": "raw",
   "id": "0a84a66d",
   "metadata": {},
   "source": [
    "What is self in programming?\n",
    "Self is a current object. Instead of using self we can use any random word like river,apple,animal etc.\n",
    "Self always refer to the current object.\n",
    "The first argument to the constructor is self always \n",
    "The first argument to the instance method is always is self\n",
    "We can not use self ouside the class\n",
    "The main purpose of self is declare to the instance variable and access the instance variable within class"
   ]
  },
  {
   "cell_type": "raw",
   "id": "5ba4005d",
   "metadata": {},
   "source": [
    "Instance Variables : Instance variable are those variables which varies from object to object.\n",
    "This method is always talk about the particular object. \n",
    "The first argument to the instance variable is always self which refenece to the current object.\n"
   ]
  },
  {
   "cell_type": "raw",
   "id": "5fce9c12",
   "metadata": {},
   "source": [
    "There are three places in python where er declared the instance variable:\n",
    "1.Within the constructor by using self\n",
    "2.Within the method by using self \n",
    "3.Outside of the class by using object reference "
   ]
  },
  {
   "cell_type": "code",
   "execution_count": 36,
   "id": "190421b3",
   "metadata": {},
   "outputs": [
    {
     "name": "stdout",
     "output_type": "stream",
     "text": [
      "{'a': 10, 'b': 20}\n",
      "{'a': 10, 'b': 20, 'c': 30}\n",
      "{'a': 10, 'b': 20, 'c': 30, 'd': 40}\n"
     ]
    }
   ],
   "source": [
    "class vijay:\n",
    "    def __init__(self):\n",
    "        self.a = 10 #instance variable \n",
    "        self.b = 20 #instance variable inside the construtor \n",
    "        \n",
    "    def m1(self):\n",
    "        self.c = 30 \n",
    "        \n",
    "\n",
    "t = vijay()\n",
    "print(t.__dict__)\n",
    "t.m1()\n",
    "print(t.__dict__)\n",
    "t.d = 40 \n",
    "print(t.__dict__)\n",
    "        \n",
    "        "
   ]
  },
  {
   "cell_type": "markdown",
   "id": "b04e89fe",
   "metadata": {},
   "source": [
    "# How to access the instance the variables "
   ]
  },
  {
   "cell_type": "code",
   "execution_count": 38,
   "id": "ee07c68d",
   "metadata": {},
   "outputs": [
    {
     "name": "stdout",
     "output_type": "stream",
     "text": [
      "10\n",
      "20\n",
      "10\n",
      "20\n"
     ]
    }
   ],
   "source": [
    "class Test:\n",
    "    def __init__(self):\n",
    "        self.a = 10 \n",
    "        self.b = 20 \n",
    "        \n",
    "    def display(self):\n",
    "        print(self.a)\n",
    "        print(self.b)\n",
    "        \n",
    "t = Test()\n",
    "t.display()\n",
    "print(t.a)\n",
    "print(t.b)"
   ]
  },
  {
   "cell_type": "raw",
   "id": "38611bf5",
   "metadata": {},
   "source": [
    "Acess of instance varaible in python\n",
    "---Within the class, we can access instance variables by using self(of course inside and instanace method)\n",
    "---But outside the outside the class, we can access by using object reference"
   ]
  },
  {
   "cell_type": "code",
   "execution_count": 40,
   "id": "7e4a1640",
   "metadata": {},
   "outputs": [
    {
     "name": "stdout",
     "output_type": "stream",
     "text": [
      "10\n",
      "20\n",
      "10\n",
      "20\n"
     ]
    }
   ],
   "source": [
    "class Test:\n",
    "    def __init__(self):\n",
    "        self.a = 10 \n",
    "        self.b = 20 \n",
    "        \n",
    "    def display(self):\n",
    "        print(self.a)\n",
    "        print(self.b)\n",
    "        \n",
    "t = Test()\n",
    "t.display()\n",
    "print(t.a)\n",
    "print(t.b)"
   ]
  },
  {
   "cell_type": "raw",
   "id": "62d03cc9",
   "metadata": {},
   "source": [
    "How to delete instance variables?\n",
    "Within the class - del.selfvariale_name\n",
    "\n",
    "From outside the class?\n",
    "del object reference = del t.a"
   ]
  },
  {
   "cell_type": "code",
   "execution_count": 66,
   "id": "e52f54b9",
   "metadata": {},
   "outputs": [
    {
     "name": "stdout",
     "output_type": "stream",
     "text": [
      "{'a': 10, 'b': 20}\n",
      "{'a': 10, 'b': 20, 'c': 30, 'd': 40}\n",
      "{'a': 10, 'b': 20, 'c': 30, 'd': 40, 'e': 50}\n"
     ]
    }
   ],
   "source": [
    "class vest:\n",
    "    def __init__(self):\n",
    "        self.a = 10 \n",
    "        self.b = 20 \n",
    "        \n",
    "    def mmxv(self):\n",
    "        self.c = 30\n",
    "        self.d = 40\n",
    "        \n",
    "t1 = vest()\n",
    "print(t1.__dict__)\n",
    "t1.mmxv()\n",
    "print(t1.__dict__)\n",
    "t1.e = 50 \n",
    "print(t1.__dict__)"
   ]
  },
  {
   "cell_type": "markdown",
   "id": "0e3e30ce",
   "metadata": {},
   "source": [
    "# Types of method :\n",
    "    "
   ]
  },
  {
   "cell_type": "raw",
   "id": "c25d9a0f",
   "metadata": {},
   "source": [
    "1.Instance method\n",
    "2.Static method\n",
    "3.Class method\n"
   ]
  },
  {
   "cell_type": "code",
   "execution_count": 72,
   "id": "16169f5b",
   "metadata": {},
   "outputs": [
    {
     "name": "stdout",
     "output_type": "stream",
     "text": [
      "{'b': 20}\n",
      "{'b': 20, 'c': 30, 'd': 40}\n",
      "{'b': 20, 'c': 30, 'e': 50}\n"
     ]
    }
   ],
   "source": [
    "#How to delete the instance variables from the object?\n",
    "class vest:\n",
    "    def __init__(self):\n",
    "        self.a = 10 \n",
    "        self.b = 20\n",
    "        del self.a    #delete the instance variable by using self\n",
    "        \n",
    "    def mmxv(self):\n",
    "        self.c = 30\n",
    "        self.d = 40\n",
    "        \n",
    "t1 = vest()\n",
    "print(t1.__dict__)\n",
    "t1.mmxv()\n",
    "print(t1.__dict__)\n",
    "t1.e = 50 \n",
    "del t1.d             #delete the instance variable using object reference\n",
    "print(t1.__dict__)"
   ]
  },
  {
   "cell_type": "code",
   "execution_count": null,
   "id": "deea2517",
   "metadata": {},
   "outputs": [],
   "source": []
  }
 ],
 "metadata": {
  "kernelspec": {
   "display_name": "Python 3 (ipykernel)",
   "language": "python",
   "name": "python3"
  },
  "language_info": {
   "codemirror_mode": {
    "name": "ipython",
    "version": 3
   },
   "file_extension": ".py",
   "mimetype": "text/x-python",
   "name": "python",
   "nbconvert_exporter": "python",
   "pygments_lexer": "ipython3",
   "version": "3.10.6"
  }
 },
 "nbformat": 4,
 "nbformat_minor": 5
}
